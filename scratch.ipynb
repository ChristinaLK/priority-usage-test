{
 "cells": [
  {
   "cell_type": "code",
   "execution_count": 4,
   "id": "ccd0cb0b",
   "metadata": {},
   "outputs": [],
   "source": [
    "import pandas as pd"
   ]
  },
  {
   "cell_type": "code",
   "execution_count": 5,
   "id": "117403c7",
   "metadata": {},
   "outputs": [],
   "source": [
    "datafile = \"exports/2024-10-20_7days_priojobs.csv\""
   ]
  },
  {
   "cell_type": "code",
   "execution_count": 9,
   "id": "b520ed5f",
   "metadata": {},
   "outputs": [],
   "source": [
    "data = pd.read_csv(datafile)"
   ]
  },
  {
   "cell_type": "code",
   "execution_count": 12,
   "id": "6fc93747",
   "metadata": {},
   "outputs": [],
   "source": [
    "data_select = data[[\"Owner\",\"ProjectName\",\"RequestCpus\",\"RequestGpus\",\"RemoteWallClockTime\",\"PrioNodes\"]]"
   ]
  },
  {
   "cell_type": "code",
   "execution_count": 35,
   "id": "ed2b6753",
   "metadata": {},
   "outputs": [],
   "source": [
    "## generate user-centric summary\n",
    "\n",
    "data_users = data_select.groupby([\"Owner\",\"ProjectName\"]).aggregate({'RequestCpus' : ['mean'], \n",
    "                                                        'RemoteWallClockTime' : ['sum'],\n",
    "                                                        'PrioNodes':['count','unique']\n",
    "                                                       }).sort_values(['ProjectName','Owner'])\n",
    "#dat.columns = dat.columns.to_flat_index()\n",
    "data_users.columns = data_users.columns.to_flat_index()\n"
   ]
  },
  {
   "cell_type": "code",
   "execution_count": 36,
   "id": "49303c07",
   "metadata": {},
   "outputs": [],
   "source": [
    "users_file = \"exports/2024-10-20_7days_priojobs_user.csv\"\n",
    "data_users.to_csv(users_file)"
   ]
  },
  {
   "cell_type": "code",
   "execution_count": 37,
   "id": "2a2c7361",
   "metadata": {},
   "outputs": [],
   "source": [
    "# generate node-centric summary\n",
    "\n",
    "data_nodes = data_select.groupby([\"PrioNodes\"]).aggregate({'RemoteWallClockTime' : ['sum'], \n",
    "                                                           'Owner':['count','unique'],\n",
    "                                                           'ProjectName':['count','unique']\n",
    "                                                       }).sort_values('PrioNodes')\n",
    "#dat.columns = dat.columns.to_flat_index()\n",
    "data_nodes.columns = data_nodes.columns.to_flat_index()\n"
   ]
  },
  {
   "cell_type": "code",
   "execution_count": 38,
   "id": "abdbbde8",
   "metadata": {},
   "outputs": [],
   "source": [
    "nodes_file = \"exports/2024-10-20_7days_priojobs_node.csv\"\n",
    "data_nodes.to_csv(nodes_file)"
   ]
  },
  {
   "cell_type": "code",
   "execution_count": null,
   "id": "fc950c39",
   "metadata": {},
   "outputs": [],
   "source": []
  },
  {
   "cell_type": "code",
   "execution_count": null,
   "id": "7caaafc5",
   "metadata": {},
   "outputs": [],
   "source": []
  }
 ],
 "metadata": {
  "kernelspec": {
   "display_name": "Python 3 (ipykernel)",
   "language": "python",
   "name": "python3"
  },
  "language_info": {
   "codemirror_mode": {
    "name": "ipython",
    "version": 3
   },
   "file_extension": ".py",
   "mimetype": "text/x-python",
   "name": "python",
   "nbconvert_exporter": "python",
   "pygments_lexer": "ipython3",
   "version": "3.8.11"
  }
 },
 "nbformat": 4,
 "nbformat_minor": 5
}
